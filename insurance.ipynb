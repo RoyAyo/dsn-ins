{
 "cells": [
  {
   "cell_type": "code",
   "execution_count": 136,
   "metadata": {},
   "outputs": [],
   "source": [
    "import numpy as np\n",
    "import pandas as pd\n",
    "import seaborn as sb\n",
    "from sklearn.model_selection import train_test_split,KFold\n",
    "from sklearn.tree import ExtraTreeClassifier,DecisionTreeClassifier\n",
    "from sklearn.feature_selection import SelectKBest,chi2\n",
    "from sklearn.linear_model import LogisticRegression\n",
    "from sklearn.ensemble import RandomForestClassifier,AdaBoostClassifier,GradientBoostingClassifier\n",
    "from sklearn.metrics import confusion_matrix,classification_report,f1_score,roc_auc_score\n",
    "from sklearn.impute import SimpleImputer\n",
    "from sklearn.preprocessing import StandardScaler\n",
    "from xgboost import XGBClassifier\n",
    "from sklearn.svm import SVC\n",
    "from sklearn.model_selection import cross_val_score,GridSearchCV\n",
    "from sklearn.preprocessing import LabelEncoder\n",
    "import random"
   ]
  },
  {
   "cell_type": "code",
   "execution_count": 289,
   "metadata": {},
   "outputs": [],
   "source": [
    "from sklearn.neighbors import KNeighborsClassifier"
   ]
  },
  {
   "cell_type": "code",
   "execution_count": 2,
   "metadata": {},
   "outputs": [],
   "source": [
    "def model(mod,X_train,y_train,X_test,act=['predict'],scale=False):\n",
    "    if (scale):\n",
    "        scale = StandardScaler().fit(X_train)\n",
    "        X_train = scale.transform(X_train)\n",
    "        X_test = scale.transform(X_test)\n",
    "    mod.fit(X_train,y_train)\n",
    "    d = {}\n",
    "    for i in act:\n",
    "        if (i == \"predict\"):\n",
    "            pred = mod.predict(X_test)\n",
    "            d[i] = pred\n",
    "        elif(i == \"prob\"):\n",
    "            prob = mod.predict_proba(X_test)\n",
    "            d[i] = prob\n",
    "        elif(i == \"importance\"):\n",
    "            imp = mod.feature_importances_\n",
    "            d[\"usefulness\"] = imp\n",
    "        elif(i == \"params\"):\n",
    "            imp = mod.coef_\n",
    "            d[\"usefulness\"] = imp\n",
    "        else:\n",
    "            pass\n",
    "    return d"
   ]
  },
  {
   "cell_type": "code",
   "execution_count": 3,
   "metadata": {},
   "outputs": [],
   "source": [
    "train_ = pd.read_csv(\"train_data.csv\")\n",
    "test_ = pd.read_csv(\"test_data.csv\")\n",
    "\n",
    "train_df = train_.copy()\n",
    "test_df = test_.copy()"
   ]
  },
  {
   "cell_type": "code",
   "execution_count": 4,
   "metadata": {},
   "outputs": [
    {
     "name": "stderr",
     "output_type": "stream",
     "text": [
      "C:\\Users\\HP\\Anaconda3\\lib\\site-packages\\ipykernel_launcher.py:1: FutureWarning: Sorting because non-concatenation axis is not aligned. A future version\n",
      "of pandas will change to not sort by default.\n",
      "\n",
      "To accept the future behavior, pass 'sort=False'.\n",
      "\n",
      "To retain the current behavior and silence the warning, pass 'sort=True'.\n",
      "\n",
      "  \"\"\"Entry point for launching an IPython kernel.\n"
     ]
    }
   ],
   "source": [
    "traintest = pd.concat([train_df,test_df])"
   ]
  },
  {
   "cell_type": "code",
   "execution_count": 5,
   "metadata": {
    "scrolled": true
   },
   "outputs": [],
   "source": [
    "#lets deal with the features one by one,one cell per feature"
   ]
  },
  {
   "cell_type": "code",
   "execution_count": 6,
   "metadata": {},
   "outputs": [],
   "source": [
    "def duration(s):\n",
    "    if (s > 0.95):\n",
    "        return True\n",
    "    return False\n",
    "\n",
    "train_df['Less Than A year'] = train_df['Insured_Period'].apply(duration)\n",
    "test_df['Less Than A year'] = test_df['Insured_Period'].apply(duration)"
   ]
  },
  {
   "cell_type": "code",
   "execution_count": 7,
   "metadata": {},
   "outputs": [],
   "source": [
    "train_df.Building_Painted = train_df.Building_Painted.map({'N':1,'V':0})\n",
    "train_df.Building_Fenced = train_df.Building_Fenced.map({'N':1,'V':0})\n",
    "train_df.Garden = train_df.Garden.map({'V':1,'O':0})\n",
    "train_df.Settlement = train_df.Settlement.map({'U':1,'R':0})\n",
    "\n",
    "test_df.Building_Painted = test_df.Building_Painted.map({'N':1,'V':0})\n",
    "test_df.Building_Fenced = test_df.Building_Fenced.map({'N':1,'V':0})\n",
    "test_df.Garden = test_df.Garden.map({'V':1,'O':0})\n",
    "test_df.Settlement = test_df.Settlement.map({'U':1,'R':0})"
   ]
  },
  {
   "cell_type": "code",
   "execution_count": 8,
   "metadata": {},
   "outputs": [],
   "source": [
    "#drop Geocode For Now\n",
    "train_df = train_df.drop(['Customer Id','Geo_Code'],axis=1)\n",
    "\n",
    "#drop Geocode For Now\n",
    "test_df = test_df.drop(['Customer Id','Geo_Code'],axis=1)"
   ]
  },
  {
   "cell_type": "code",
   "execution_count": 9,
   "metadata": {},
   "outputs": [],
   "source": [
    "##another means\n",
    "\n",
    "def Garden(s):\n",
    "    if (s == 1):\n",
    "        return 1\n",
    "    return 0\n",
    "\n",
    "train_df['Garden'].fillna(train_df[train_df['Garden'].isna()]['Settlement'].apply(Garden),inplace=True)\n",
    "test_df['Garden'].fillna(test_df[test_df['Garden'].isna()]['Settlement'].apply(Garden),inplace=True)"
   ]
  },
  {
   "cell_type": "code",
   "execution_count": 10,
   "metadata": {},
   "outputs": [],
   "source": [
    "def doc(s):\n",
    "    if(s == 1):\n",
    "        return 1971\n",
    "    return 1958\n",
    "\n",
    "train_df['Date_of_Occupancy'].fillna(train_df[train_df['Date_of_Occupancy'].isna()]['Settlement'].apply(doc),inplace=True)\n",
    "test_df['Date_of_Occupancy'].fillna(test_df[test_df['Date_of_Occupancy'].isna()]['Settlement'].apply(doc),inplace=True)"
   ]
  },
  {
   "cell_type": "code",
   "execution_count": 11,
   "metadata": {},
   "outputs": [],
   "source": [
    "#frequency encode yearOfObservation\n",
    "year_encode = traintest.YearOfObservation.value_counts()/len(traintest)\n",
    "train_df.YearOfObservation = train_df.YearOfObservation.map(year_encode)\n",
    "test_df.YearOfObservation = test_df.YearOfObservation.map(year_encode)"
   ]
  },
  {
   "cell_type": "code",
   "execution_count": 12,
   "metadata": {},
   "outputs": [],
   "source": [
    "# #rank this bitch\n",
    "\n",
    "# from scipy.stats import rankdata\n",
    "\n",
    "# train_df.check = rankdata(train_df.YearOfObservation)"
   ]
  },
  {
   "cell_type": "code",
   "execution_count": 13,
   "metadata": {},
   "outputs": [],
   "source": [
    "def workOnbdim(b):\n",
    "    if(b < 70):\n",
    "        return np.nan\n",
    "    return b\n",
    "\n",
    "train_df['Building Dimension'] = train_df['Building Dimension'].apply(workOnbdim)\n",
    "test_df['Building Dimension'] = test_df['Building Dimension'].apply(workOnbdim)"
   ]
  },
  {
   "cell_type": "code",
   "execution_count": 14,
   "metadata": {},
   "outputs": [],
   "source": [
    "m1 = traintest[traintest['Settlement'] == 1]['Building Dimension'].mean()\n",
    "m2 = traintest[traintest['Settlement'] == 0]['Building Dimension'].mean()\n",
    "def bdim(s):\n",
    "    if(s==1):\n",
    "        return m1\n",
    "    return m2\n",
    "\n",
    "train_df['Building Dimension'].fillna(train_df[train_df['Building Dimension'].isna()]['Settlement'].apply(doc),inplace=True)\n",
    "test_df['Building Dimension'].fillna(test_df[test_df['Building Dimension'].isna()]['Settlement'].apply(doc),inplace=True)"
   ]
  },
  {
   "cell_type": "code",
   "execution_count": 15,
   "metadata": {},
   "outputs": [],
   "source": [
    "def workOnwind(w):\n",
    "    if(w == \".\"):\n",
    "        return np.nan\n",
    "    elif(w == \">=10\"):\n",
    "        return \"10\"\n",
    "    return w\n",
    "train_df.NumberOfWindows = train_df.NumberOfWindows.str.lstrip()\n",
    "train_df.NumberOfWindows = train_df.NumberOfWindows.apply(workOnwind)\n",
    "train_df['Missing NOW'] = train_df.NumberOfWindows.isna()\n",
    "\n",
    "test_df.NumberOfWindows = test_df.NumberOfWindows.str.lstrip()\n",
    "test_df.NumberOfWindows = test_df.NumberOfWindows.apply(workOnwind)\n",
    "test_df['Missing NOW'] = test_df.NumberOfWindows.isna()"
   ]
  },
  {
   "cell_type": "code",
   "execution_count": 16,
   "metadata": {},
   "outputs": [],
   "source": [
    "def now(b):\n",
    "    if(b <= 100):\n",
    "        return \"1\"\n",
    "    if(b <= 300 and b > 100):\n",
    "        return \"2\"\n",
    "    if(b > 300 and b <= 800 ):\n",
    "        return \"3\"\n",
    "    if(b > 800 and b <= 2500):\n",
    "        return \"4\"\n",
    "    if(b > 2500 and b <= 6000):\n",
    "        return \"5\"\n",
    "    if(b > 6000 and b <= 15000):\n",
    "        return str(random.randint(5,9))\n",
    "    if(b > 15000):\n",
    "        return str(random.randint(9,11))\n",
    "\n",
    "train_df['NumberOfWindows'].fillna(train_df[train_df['NumberOfWindows'].isna()]['Building Dimension'].apply(now),inplace=True)\n",
    "test_df['NumberOfWindows'].fillna(test_df[test_df['NumberOfWindows'].isna()]['Building Dimension'].apply(now),inplace=True)\n",
    "\n",
    "train_df.NumberOfWindows = train_df.NumberOfWindows.astype('int16')\n",
    "test_df.NumberOfWindows = test_df.NumberOfWindows.astype('int16')"
   ]
  },
  {
   "cell_type": "code",
   "execution_count": null,
   "metadata": {},
   "outputs": [],
   "source": []
  },
  {
   "cell_type": "code",
   "execution_count": null,
   "metadata": {},
   "outputs": [],
   "source": []
  },
  {
   "cell_type": "code",
   "execution_count": 62,
   "metadata": {},
   "outputs": [
    {
     "data": {
      "text/plain": [
       "<matplotlib.axes._subplots.AxesSubplot at 0x2220e78bc88>"
      ]
     },
     "execution_count": 62,
     "metadata": {},
     "output_type": "execute_result"
    },
    {
     "data": {
      "image/png": "[encoded data removed]",
      "text/plain": [
       "<Figure size 432x288 with 2 Axes>"
      ]
     },
     "metadata": {
      "needs_background": "light"
     },
     "output_type": "display_data"
    }
   ],
   "source": [
    "sb.heatmap(train_df.corr(),annot=True)"
   ]
  },
  {
   "cell_type": "code",
   "execution_count": null,
   "metadata": {},
   "outputs": [],
   "source": []
  },
  {
   "cell_type": "code",
   "execution_count": null,
   "metadata": {},
   "outputs": [],
   "source": []
  },
  {
   "cell_type": "code",
   "execution_count": null,
   "metadata": {},
   "outputs": [],
   "source": []
  },
  {
   "cell_type": "code",
   "execution_count": null,
   "metadata": {},
   "outputs": [],
   "source": []
  },
  {
   "cell_type": "code",
   "execution_count": null,
   "metadata": {},
   "outputs": [],
   "source": []
  },
  {
   "cell_type": "code",
   "execution_count": null,
   "metadata": {},
   "outputs": [],
   "source": []
  },
  {
   "cell_type": "code",
   "execution_count": null,
   "metadata": {},
   "outputs": [],
   "source": []
  },
  {
   "cell_type": "code",
   "execution_count": null,
   "metadata": {},
   "outputs": [],
   "source": []
  },
  {
   "cell_type": "code",
   "execution_count": null,
   "metadata": {},
   "outputs": [],
   "source": []
  },
  {
   "cell_type": "code",
   "execution_count": null,
   "metadata": {},
   "outputs": [],
   "source": []
  },
  {
   "cell_type": "code",
   "execution_count": null,
   "metadata": {},
   "outputs": [],
   "source": []
  },
  {
   "cell_type": "code",
   "execution_count": null,
   "metadata": {},
   "outputs": [],
   "source": []
  },
  {
   "cell_type": "code",
   "execution_count": null,
   "metadata": {},
   "outputs": [],
   "source": []
  },
  {
   "cell_type": "code",
   "execution_count": null,
   "metadata": {},
   "outputs": [],
   "source": []
  },
  {
   "cell_type": "code",
   "execution_count": 43,
   "metadata": {},
   "outputs": [],
   "source": [
    "#train the model normally"
   ]
  },
  {
   "cell_type": "code",
   "execution_count": 17,
   "metadata": {},
   "outputs": [],
   "source": [
    "X = train_df.drop(['Settlement','Garden','Missing NOW'],axis=1)\n",
    "y = train_df.Claim"
   ]
  },
  {
   "cell_type": "code",
   "execution_count": 18,
   "metadata": {},
   "outputs": [],
   "source": [
    "val = KFold(n_splits=5)"
   ]
  },
  {
   "cell_type": "code",
   "execution_count": 19,
   "metadata": {
    "scrolled": true
   },
   "outputs": [],
   "source": [
    "# s = []\n",
    "# for x,x2 in val.split(X):\n",
    "#     X_train,X_test = X.iloc[x],X.iloc[x2]\n",
    "#     y_train,y_test = y.iloc[x],y.iloc[x2]\n",
    "#     mod_test = model(RandomForestClassifier(n_estimators=100),X_train,y_train,X_test,act=['predict'])\n",
    "#     v = f1_score(y_test,mod_test['predict'])\n",
    "#     s.append(v)"
   ]
  },
  {
   "cell_type": "code",
   "execution_count": 178,
   "metadata": {},
   "outputs": [],
   "source": [
    "X_train,X_test = train_test_split(X,random_state=10,test_size=0.3)"
   ]
  },
  {
   "cell_type": "code",
   "execution_count": 179,
   "metadata": {},
   "outputs": [],
   "source": [
    "# top = SelectKBest(chi2,k=5)\n",
    "# top.fit(X_train,y_train)\n",
    "\n",
    "# X_train = top.transform(X_train)\n",
    "# X_test = top.transform(X_test)"
   ]
  },
  {
   "cell_type": "code",
   "execution_count": 180,
   "metadata": {},
   "outputs": [],
   "source": [
    "#since the data is not balanced,let me try to oversample the minority class\n",
    "\n",
    "X0 = X_train[X_train['Claim']==1]\n",
    "X1 = X_train[X_train['Claim']==0]\n",
    "Xt0 = X0.append(X0)\n",
    "Xt = Xt0.append(X1)\n",
    "#shuffle\n",
    "X_train = Xt.sample(frac=1)"
   ]
  },
  {
   "cell_type": "code",
   "execution_count": 181,
   "metadata": {},
   "outputs": [],
   "source": [
    "y_train = X_train.Claim\n",
    "X_train = X_train.drop('Claim',axis=1)\n",
    "\n",
    "y_test = X_test.Claim\n",
    "X_test = X_test.drop('Claim',axis=1)"
   ]
  },
  {
   "cell_type": "code",
   "execution_count": 66,
   "metadata": {},
   "outputs": [],
   "source": [
    "top = SelectKBest(chi2,k=5)\n",
    "top.fit(X_train,y_train)\n",
    "\n",
    "X_train = top.transform(X_train)\n",
    "X_test = top.transform(X_test)"
   ]
  },
  {
   "cell_type": "code",
   "execution_count": 306,
   "metadata": {
    "scrolled": true
   },
   "outputs": [],
   "source": [
    "mod_test = model(GradientBoostingClassifier(),X_train,y_train,X_test,act=['predict'])"
   ]
  },
  {
   "cell_type": "code",
   "execution_count": 307,
   "metadata": {},
   "outputs": [],
   "source": [
    "pred1 = mod_test['predict']"
   ]
  },
  {
   "cell_type": "code",
   "execution_count": 308,
   "metadata": {},
   "outputs": [],
   "source": [
    "mod_test = model(AdaBoostClassifier(),X_train,y_train,X_test,act=['predict'])"
   ]
  },
  {
   "cell_type": "code",
   "execution_count": 309,
   "metadata": {},
   "outputs": [],
   "source": [
    "pred2 = mod_test['predict']"
   ]
  },
  {
   "cell_type": "code",
   "execution_count": 310,
   "metadata": {},
   "outputs": [],
   "source": [
    "mod_test = model(XGBClassifier(),X_train,y_train,X_test,act=['predict','importance'])"
   ]
  },
  {
   "cell_type": "code",
   "execution_count": 311,
   "metadata": {
    "scrolled": true
   },
   "outputs": [],
   "source": [
    "pred3 = mod_test['predict']"
   ]
  },
  {
   "cell_type": "code",
   "execution_count": 312,
   "metadata": {},
   "outputs": [],
   "source": [
    "mod_test = model(RandomForestClassifier(n_estimators=200,max_depth=9),X_train,y_train,X_test,act=['predict','importance'])"
   ]
  },
  {
   "cell_type": "code",
   "execution_count": 313,
   "metadata": {},
   "outputs": [],
   "source": [
    "pred4 = mod_test['predict']"
   ]
  },
  {
   "cell_type": "code",
   "execution_count": 314,
   "metadata": {},
   "outputs": [
    {
     "name": "stderr",
     "output_type": "stream",
     "text": [
      "C:\\Users\\HP\\Anaconda3\\lib\\site-packages\\sklearn\\preprocessing\\data.py:645: DataConversionWarning: Data with input dtype bool, int16, int64, float64 were all converted to float64 by StandardScaler.\n",
      "  return self.partial_fit(X, y)\n",
      "C:\\Users\\HP\\Anaconda3\\lib\\site-packages\\ipykernel_launcher.py:4: DataConversionWarning: Data with input dtype bool, int16, int64, float64 were all converted to float64 by StandardScaler.\n",
      "  after removing the cwd from sys.path.\n",
      "C:\\Users\\HP\\Anaconda3\\lib\\site-packages\\ipykernel_launcher.py:5: DataConversionWarning: Data with input dtype bool, int16, int64, float64 were all converted to float64 by StandardScaler.\n",
      "  \"\"\"\n"
     ]
    }
   ],
   "source": [
    "mod_test = model(SVC(C=10.0),X_train,y_train,X_test,act=['predict'],scale=True)"
   ]
  },
  {
   "cell_type": "code",
   "execution_count": 315,
   "metadata": {},
   "outputs": [],
   "source": [
    "pred5 = mod_test['predict']"
   ]
  },
  {
   "cell_type": "code",
   "execution_count": 184,
   "metadata": {},
   "outputs": [],
   "source": [
    "# treealgs = [GradientBoostingClassifier(),AdaBoostClassifier(),XGBClassifier(),RandomForestClassifier(n_estimators=200,max_depth=9)]\n",
    "# nontreealgs = [SVC(10.0)]\n",
    "# preds = []\n",
    "\n",
    "\n",
    "# for alg in treealgs:\n",
    "#     mod_test = model(alg,X_train,y_train,X_test,act=['predict'])\n",
    "#     preds.append(mod_test['predict'])\n",
    "\n",
    "    \n",
    "# for alg in nontreealgs:\n",
    "#     mod_test = model(alg,X_train,y_train,X_test,act=['predict'],scale=True)\n",
    "#     preds.append(mod_test['predict'])"
   ]
  },
  {
   "cell_type": "code",
   "execution_count": null,
   "metadata": {},
   "outputs": [],
   "source": []
  },
  {
   "cell_type": "code",
   "execution_count": 185,
   "metadata": {
    "scrolled": false
   },
   "outputs": [],
   "source": [
    "# param_grid = {\n",
    "#     \"n_estimators\":[50,100,200],\n",
    "#     \"max_depth\":[3,5,7,9],\n",
    "#     \"booster\":[\"gbtree\",\"gblinear\",\"dart\"],\n",
    "#     \"learning_rate\":[0.1,0.01]\n",
    "# }\n",
    "\n",
    "# grid = GridSearchCV(XGBClassifier(),param_grid,cv=10,scoring='roc_auc',verbose=1)\n",
    "# grid.fit(X_train,y_train)"
   ]
  },
  {
   "cell_type": "code",
   "execution_count": 156,
   "metadata": {},
   "outputs": [],
   "source": [
    "#DecisionTreeBestEstimator has a max deth of 9,minsamspkit of 2\n",
    "#RandomForestBestEstimator has a max depth of 9,estimator of 200\n",
    "#Xgboost best estimator max dep"
   ]
  },
  {
   "cell_type": "code",
   "execution_count": 366,
   "metadata": {
    "scrolled": true
   },
   "outputs": [
    {
     "data": {
      "text/plain": [
       "0.6534177810655575"
      ]
     },
     "execution_count": 366,
     "metadata": {},
     "output_type": "execute_result"
    }
   ],
   "source": [
    "roc_auc_score(y_test,pred)"
   ]
  },
  {
   "cell_type": "code",
   "execution_count": 364,
   "metadata": {},
   "outputs": [],
   "source": [
    "ensemble = np.vstack((pred2,pred3,pred5)) #,pred3,pred4,pred5"
   ]
  },
  {
   "cell_type": "code",
   "execution_count": 365,
   "metadata": {},
   "outputs": [],
   "source": [
    "pred = ensemble.max(axis=0)"
   ]
  },
  {
   "cell_type": "code",
   "execution_count": 239,
   "metadata": {},
   "outputs": [],
   "source": [
    "pred = np.round(np.mean(ensemble,axis=0))"
   ]
  },
  {
   "cell_type": "code",
   "execution_count": null,
   "metadata": {},
   "outputs": [],
   "source": []
  },
  {
   "cell_type": "code",
   "execution_count": null,
   "metadata": {},
   "outputs": [],
   "source": []
  },
  {
   "cell_type": "code",
   "execution_count": null,
   "metadata": {},
   "outputs": [],
   "source": []
  },
  {
   "cell_type": "code",
   "execution_count": null,
   "metadata": {},
   "outputs": [],
   "source": []
  },
  {
   "cell_type": "code",
   "execution_count": null,
   "metadata": {},
   "outputs": [],
   "source": []
  },
  {
   "cell_type": "code",
   "execution_count": null,
   "metadata": {},
   "outputs": [],
   "source": []
  },
  {
   "cell_type": "code",
   "execution_count": null,
   "metadata": {},
   "outputs": [],
   "source": []
  },
  {
   "cell_type": "code",
   "execution_count": null,
   "metadata": {},
   "outputs": [],
   "source": []
  },
  {
   "cell_type": "code",
   "execution_count": null,
   "metadata": {},
   "outputs": [],
   "source": []
  },
  {
   "cell_type": "code",
   "execution_count": null,
   "metadata": {},
   "outputs": [],
   "source": []
  },
  {
   "cell_type": "code",
   "execution_count": 367,
   "metadata": {},
   "outputs": [],
   "source": [
    "#since the data is not balanced,let me try to undersample the dominating class\n",
    "\n",
    "X0 = train_df[train_df['Claim']==1]\n",
    "X1 = train_df[train_df['Claim']==0]\n",
    "Xt0 = X0.append(X0)\n",
    "Xt0 = Xt0.append(Xt0)\n",
    "Xt = Xt0.append(X1)\n",
    "#shuffle\n",
    "X_t = Xt.sample(frac=1)"
   ]
  },
  {
   "cell_type": "code",
   "execution_count": null,
   "metadata": {},
   "outputs": [],
   "source": []
  },
  {
   "cell_type": "code",
   "execution_count": null,
   "metadata": {},
   "outputs": [],
   "source": []
  },
  {
   "cell_type": "code",
   "execution_count": null,
   "metadata": {},
   "outputs": [],
   "source": []
  },
  {
   "cell_type": "code",
   "execution_count": 75,
   "metadata": {},
   "outputs": [],
   "source": [
    "#transformation"
   ]
  },
  {
   "cell_type": "code",
   "execution_count": 368,
   "metadata": {},
   "outputs": [],
   "source": [
    "X_transformed = X_t.drop(['Claim','Settlement','Missing NOW','Garden'],axis=1)\n",
    "X_test_transformed = test_df.drop(['Garden','Settlement','Missing NOW'],axis=1)"
   ]
  },
  {
   "cell_type": "code",
   "execution_count": 369,
   "metadata": {},
   "outputs": [],
   "source": [
    "ytrain = X_t.Claim"
   ]
  },
  {
   "cell_type": "code",
   "execution_count": 109,
   "metadata": {},
   "outputs": [],
   "source": [
    "X_transformed = X_transformed[top6]\n",
    "X_test_transformed = X_test_transformed[top6]"
   ]
  },
  {
   "cell_type": "code",
   "execution_count": null,
   "metadata": {},
   "outputs": [],
   "source": []
  },
  {
   "cell_type": "code",
   "execution_count": null,
   "metadata": {},
   "outputs": [],
   "source": []
  },
  {
   "cell_type": "code",
   "execution_count": null,
   "metadata": {},
   "outputs": [],
   "source": []
  },
  {
   "cell_type": "code",
   "execution_count": null,
   "metadata": {},
   "outputs": [],
   "source": []
  },
  {
   "cell_type": "code",
   "execution_count": null,
   "metadata": {},
   "outputs": [],
   "source": []
  },
  {
   "cell_type": "code",
   "execution_count": null,
   "metadata": {},
   "outputs": [],
   "source": []
  },
  {
   "cell_type": "code",
   "execution_count": null,
   "metadata": {},
   "outputs": [],
   "source": []
  },
  {
   "cell_type": "code",
   "execution_count": null,
   "metadata": {},
   "outputs": [],
   "source": []
  },
  {
   "cell_type": "code",
   "execution_count": null,
   "metadata": {},
   "outputs": [],
   "source": []
  },
  {
   "cell_type": "code",
   "execution_count": null,
   "metadata": {},
   "outputs": [],
   "source": []
  },
  {
   "cell_type": "code",
   "execution_count": null,
   "metadata": {},
   "outputs": [],
   "source": []
  },
  {
   "cell_type": "code",
   "execution_count": 370,
   "metadata": {},
   "outputs": [],
   "source": [
    "mod_d = model(AdaBoostClassifier(),X_transformed,ytrain,X_test_transformed,act=['predict'])"
   ]
  },
  {
   "cell_type": "code",
   "execution_count": 371,
   "metadata": {},
   "outputs": [],
   "source": [
    "pred1 = mod_d['predict']"
   ]
  },
  {
   "cell_type": "code",
   "execution_count": 372,
   "metadata": {},
   "outputs": [],
   "source": [
    "mod_d = model(XGBClassifier(),X_transformed,ytrain,X_test_transformed,act=['predict'])"
   ]
  },
  {
   "cell_type": "code",
   "execution_count": 373,
   "metadata": {},
   "outputs": [],
   "source": [
    "pred2 = mod_d['predict']"
   ]
  },
  {
   "cell_type": "code",
   "execution_count": 374,
   "metadata": {},
   "outputs": [],
   "source": [
    "mod_d = model(GradientBoostingClassifier(),X_transformed,ytrain,X_test_transformed,act=['predict'])"
   ]
  },
  {
   "cell_type": "code",
   "execution_count": 375,
   "metadata": {},
   "outputs": [],
   "source": [
    "pred3 = mod_d['predict']"
   ]
  },
  {
   "cell_type": "code",
   "execution_count": 376,
   "metadata": {},
   "outputs": [],
   "source": [
    "mod_d = model(RandomForestClassifier(n_estimators=200,max_depth=9),X_transformed,ytrain,X_test_transformed,act=['predict'])"
   ]
  },
  {
   "cell_type": "code",
   "execution_count": 377,
   "metadata": {},
   "outputs": [],
   "source": [
    "pred4 = mod_d['predict']"
   ]
  },
  {
   "cell_type": "code",
   "execution_count": 378,
   "metadata": {},
   "outputs": [
    {
     "name": "stderr",
     "output_type": "stream",
     "text": [
      "C:\\Users\\HP\\Anaconda3\\lib\\site-packages\\sklearn\\preprocessing\\data.py:645: DataConversionWarning: Data with input dtype bool, int16, int64, float64 were all converted to float64 by StandardScaler.\n",
      "  return self.partial_fit(X, y)\n",
      "C:\\Users\\HP\\Anaconda3\\lib\\site-packages\\ipykernel_launcher.py:4: DataConversionWarning: Data with input dtype bool, int16, int64, float64 were all converted to float64 by StandardScaler.\n",
      "  after removing the cwd from sys.path.\n",
      "C:\\Users\\HP\\Anaconda3\\lib\\site-packages\\ipykernel_launcher.py:5: DataConversionWarning: Data with input dtype bool, int16, int64, float64 were all converted to float64 by StandardScaler.\n",
      "  \"\"\"\n"
     ]
    }
   ],
   "source": [
    "mod_d = model(SVC(C=10.0),X_transformed,ytrain,X_test_transformed,act=['predict'],scale=True)"
   ]
  },
  {
   "cell_type": "code",
   "execution_count": 379,
   "metadata": {},
   "outputs": [],
   "source": [
    "pred5 = mod_d['predict']"
   ]
  },
  {
   "cell_type": "code",
   "execution_count": 380,
   "metadata": {},
   "outputs": [],
   "source": [
    "ensemble = np.vstack((pred1,pred2,pred5))"
   ]
  },
  {
   "cell_type": "code",
   "execution_count": 381,
   "metadata": {},
   "outputs": [],
   "source": [
    "pred = ensemble.max(axis=0)"
   ]
  },
  {
   "cell_type": "code",
   "execution_count": 148,
   "metadata": {},
   "outputs": [],
   "source": []
  },
  {
   "cell_type": "code",
   "execution_count": 54,
   "metadata": {},
   "outputs": [],
   "source": [
    "# param_grid = {\n",
    "#     'max_depth':[3,5,7],\n",
    "#     'n_estimators':[10,100],\n",
    "#     'learning_rate':[0.1,0.01],\n",
    "#     'min_child_weight':[1,2]\n",
    "# }\n",
    "\n",
    "# grid = GridSearchCV(XGBClassifier(),param_grid,scoring='roc_auc',cv=10)\n",
    "# grid.fit(X_transformed,y)"
   ]
  },
  {
   "cell_type": "code",
   "execution_count": 384,
   "metadata": {},
   "outputs": [],
   "source": [
    "test_ = pd.read_csv(\"test_data.csv\")\n",
    "test_['Claim'] = pred4\n",
    "fin = test_[['Customer Id','Claim']]\n",
    "\n",
    "fin.to_csv(\"submit/sub43.csv\",index=False)"
   ]
  },
  {
   "cell_type": "markdown",
   "metadata": {},
   "source": [
    "#### "
   ]
  }
 ],
 "metadata": {
  "kernelspec": {
   "display_name": "Python 3",
   "language": "python",
   "name": "python3"
  },
  "language_info": {
   "codemirror_mode": {
    "name": "ipython",
    "version": 3
   },
   "file_extension": ".py",
   "mimetype": "text/x-python",
   "name": "python",
   "nbconvert_exporter": "python",
   "pygments_lexer": "ipython3",
   "version": "3.7.1"
  }
 },
 "nbformat": 4,
 "nbformat_minor": 2
}
